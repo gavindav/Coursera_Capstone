{
    "cells": [
        {
            "cell_type": "markdown",
            "metadata": {},
            "source": "# Applied Data Science Capstone\n\nNotebook for 'Segmenting and Clustering Neighborhoods in Toronto' final assignment (part 1)"
        },
        {
            "cell_type": "code",
            "execution_count": 10,
            "metadata": {},
            "outputs": [],
            "source": "import pandas as pd\nfrom bs4 import BeautifulSoup\nimport requests"
        },
        {
            "cell_type": "markdown",
            "metadata": {},
            "source": "### The Wikipedia page containing postal code information for neighborhoods in Toronto is located at\nhttps://en.wikipedia.org/wiki/List_of_postal_codes_of_Canada:_M"
        },
        {
            "cell_type": "code",
            "execution_count": 11,
            "metadata": {},
            "outputs": [],
            "source": "# source = requests.get(\"https://en.wikipedia.org/wiki/List_of_postal_codes_of_Canada:_M\").text"
        },
        {
            "cell_type": "markdown",
            "metadata": {},
            "source": "### Read the page source into a variable"
        },
        {
            "cell_type": "code",
            "execution_count": 12,
            "metadata": {},
            "outputs": [],
            "source": "# soup = BeautifulSoup(source, 'lxml')"
        },
        {
            "cell_type": "markdown",
            "metadata": {},
            "source": "### Use BeautifulSoup to scrape the html table from the page text"
        },
        {
            "cell_type": "code",
            "execution_count": 13,
            "metadata": {},
            "outputs": [],
            "source": "# table = soup.find(\"table\")"
        },
        {
            "cell_type": "markdown",
            "metadata": {},
            "source": "### Display the table - to make the job of extracting the dataset easier"
        },
        {
            "cell_type": "code",
            "execution_count": 14,
            "metadata": {},
            "outputs": [],
            "source": "# from IPython.display import display_html\n# tbl = str(soup.table)\n# display_html(tbl,raw=True)"
        },
        {
            "cell_type": "markdown",
            "metadata": {},
            "source": "### Create a list with entries containg the text for each table row \\<tr>...\\</tr>"
        },
        {
            "cell_type": "code",
            "execution_count": 15,
            "metadata": {},
            "outputs": [],
            "source": "# table_rows = table.tbody.find_all(\"tr\")"
        },
        {
            "cell_type": "markdown",
            "metadata": {},
            "source": "### Build a list with postalcode information. Each item consists of a list with three items: postalcode, Borough and Neighborhood"
        },
        {
            "cell_type": "code",
            "execution_count": 16,
            "metadata": {},
            "outputs": [],
            "source": "## Scrap the contents of each td cell into a list called calls\n#cells=[]\n#for tr_row in table_rows:\n#    # Find all the td cells\n#    td_lst = tr_row.find_all(\"td\")\n#    for td in td_lst:\n#        # scrape the td cell contents\n#        td_txt = td.text.strip()\n#        # ignoe if the contents contains t etext 'Not assigned'\n#        if td_txt.find('Not assigned') < 0:\n#            # add the cleansed cell contents to the list\n#            cells.append(td.text.strip())\n#rows=[]\n#for cell in cells:\n#    # the cell contains data in the format <postalcode><Borough>(<Neighbourhood> [/ <Neighbourhood>]*)\n#    # postalcode is the first three characters\n#    Postalcode = cell[:3]\n#    # find the round-bracket location and extract the borough\n#    bracket_loc = cell[3:].find('(')\n#    Borough = cell[3:][:bracket_loc]\n#    # get the neighborhoods from bwteen the round-brackets\n#    Neighborhoods = cell[bracket_loc+4:-1]\n#    # add the rows, substituting the slash witha comma\n#    rows.append([Postalcode, Borough, Neighborhoods.replace(' / ', ', ')])"
        },
        {
            "cell_type": "markdown",
            "metadata": {},
            "source": "### Create the dataframe"
        },
        {
            "cell_type": "code",
            "execution_count": 17,
            "metadata": {},
            "outputs": [],
            "source": "# df = pd.DataFrame(rows, columns = [\"PostalCode\", \"Borough\", \"Neighborhood\"])\n# df.head()"
        },
        {
            "cell_type": "markdown",
            "metadata": {},
            "source": "### Return the dataframe shape"
        },
        {
            "cell_type": "code",
            "execution_count": 18,
            "metadata": {},
            "outputs": [],
            "source": "# df.shape"
        },
        {
            "cell_type": "code",
            "execution_count": null,
            "metadata": {},
            "outputs": [],
            "source": ""
        },
        {
            "cell_type": "code",
            "execution_count": null,
            "metadata": {},
            "outputs": [],
            "source": ""
        }
    ],
    "metadata": {
        "kernelspec": {
            "display_name": "Python 3.7",
            "language": "python",
            "name": "python3"
        },
        "language_info": {
            "codemirror_mode": {
                "name": "ipython",
                "version": 3
            },
            "file_extension": ".py",
            "mimetype": "text/x-python",
            "name": "python",
            "nbconvert_exporter": "python",
            "pygments_lexer": "ipython3",
            "version": "3.7.10"
        }
    },
    "nbformat": 4,
    "nbformat_minor": 4
}